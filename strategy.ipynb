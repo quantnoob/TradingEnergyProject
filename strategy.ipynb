{
 "cells": [
  {
   "cell_type": "code",
   "execution_count": 1,
   "metadata": {},
   "outputs": [],
   "source": [
    "import pandas as pd\n",
    "import numpy as np\n",
    "import matplotlib.pyplot as plt\n",
    "from seaborn import heatmap"
   ]
  },
  {
   "cell_type": "code",
   "execution_count": 2,
   "metadata": {},
   "outputs": [],
   "source": [
    "features = pd.read_hdf('./features/features_data.h5','abc')\n",
    "features_col_name = features.columns.to_list()"
   ]
  },
  {
   "cell_type": "code",
   "execution_count": 3,
   "metadata": {},
   "outputs": [],
   "source": [
    "features_weight = pd.read_pickle('./features/features_weights')"
   ]
  },
  {
   "cell_type": "code",
   "execution_count": 4,
   "metadata": {},
   "outputs": [
    {
     "data": {
      "text/plain": [
       "array([0.16706801, 0.14386047, 0.52130579, 0.49758379, 0.19244736,\n",
       "       0.14546523, 0.19465327, 0.2386351 , 0.23586511, 0.47238125])"
      ]
     },
     "execution_count": 4,
     "metadata": {},
     "output_type": "execute_result"
    }
   ],
   "source": [
    "features_weight"
   ]
  },
  {
   "cell_type": "code",
   "execution_count": 5,
   "metadata": {},
   "outputs": [
    {
     "data": {
      "text/plain": [
       "['CPI_y2y_ratio',\n",
       " 'pmi_y2y_ratio',\n",
       " 'Inventory_y2y_ratio',\n",
       " 'Inventory_mom_3_12',\n",
       " 'usd_mom_20_125',\n",
       " 'dollar_vol_monthly',\n",
       " 'carry',\n",
       " 'carry_mom_20_125',\n",
       " 'VIX',\n",
       " 'mom_20_250']"
      ]
     },
     "execution_count": 5,
     "metadata": {},
     "output_type": "execute_result"
    }
   ],
   "source": [
    "features_col_name"
   ]
  },
  {
   "cell_type": "code",
   "execution_count": 6,
   "metadata": {},
   "outputs": [
    {
     "data": {
      "text/html": [
       "<div>\n",
       "<style scoped>\n",
       "    .dataframe tbody tr th:only-of-type {\n",
       "        vertical-align: middle;\n",
       "    }\n",
       "\n",
       "    .dataframe tbody tr th {\n",
       "        vertical-align: top;\n",
       "    }\n",
       "\n",
       "    .dataframe thead th {\n",
       "        text-align: right;\n",
       "    }\n",
       "</style>\n",
       "<table border=\"1\" class=\"dataframe\">\n",
       "  <thead>\n",
       "    <tr style=\"text-align: right;\">\n",
       "      <th></th>\n",
       "      <th>CPI_y2y_ratio</th>\n",
       "      <th>pmi_y2y_ratio</th>\n",
       "      <th>Inventory_y2y_ratio</th>\n",
       "      <th>Inventory_mom_3_12</th>\n",
       "      <th>usd_mom_20_125</th>\n",
       "      <th>dollar_vol_monthly</th>\n",
       "      <th>carry</th>\n",
       "      <th>carry_mom_20_125</th>\n",
       "      <th>VIX</th>\n",
       "      <th>mom_20_250</th>\n",
       "    </tr>\n",
       "    <tr>\n",
       "      <th>date</th>\n",
       "      <th></th>\n",
       "      <th></th>\n",
       "      <th></th>\n",
       "      <th></th>\n",
       "      <th></th>\n",
       "      <th></th>\n",
       "      <th></th>\n",
       "      <th></th>\n",
       "      <th></th>\n",
       "      <th></th>\n",
       "    </tr>\n",
       "  </thead>\n",
       "  <tbody>\n",
       "    <tr>\n",
       "      <th>2006-06-01</th>\n",
       "      <td>0.041817</td>\n",
       "      <td>-0.007634</td>\n",
       "      <td>0.001592</td>\n",
       "      <td>7578.250000</td>\n",
       "      <td>-4.155340</td>\n",
       "      <td>4.823400</td>\n",
       "      <td>-2.03</td>\n",
       "      <td>-0.09520</td>\n",
       "      <td>14.52</td>\n",
       "      <td>6.149323</td>\n",
       "    </tr>\n",
       "    <tr>\n",
       "      <th>2006-06-02</th>\n",
       "      <td>0.041817</td>\n",
       "      <td>-0.007634</td>\n",
       "      <td>0.007231</td>\n",
       "      <td>12630.916667</td>\n",
       "      <td>-4.182680</td>\n",
       "      <td>4.711216</td>\n",
       "      <td>-1.78</td>\n",
       "      <td>-0.02232</td>\n",
       "      <td>14.32</td>\n",
       "      <td>6.215534</td>\n",
       "    </tr>\n",
       "    <tr>\n",
       "      <th>2006-06-05</th>\n",
       "      <td>0.041817</td>\n",
       "      <td>-0.007634</td>\n",
       "      <td>0.007231</td>\n",
       "      <td>12630.916667</td>\n",
       "      <td>-4.169200</td>\n",
       "      <td>4.711611</td>\n",
       "      <td>-1.94</td>\n",
       "      <td>0.04870</td>\n",
       "      <td>16.65</td>\n",
       "      <td>6.274121</td>\n",
       "    </tr>\n",
       "    <tr>\n",
       "      <th>2006-06-06</th>\n",
       "      <td>0.041817</td>\n",
       "      <td>-0.007634</td>\n",
       "      <td>0.007231</td>\n",
       "      <td>12630.916667</td>\n",
       "      <td>-4.140200</td>\n",
       "      <td>4.694080</td>\n",
       "      <td>-1.89</td>\n",
       "      <td>0.11438</td>\n",
       "      <td>17.34</td>\n",
       "      <td>6.348991</td>\n",
       "    </tr>\n",
       "    <tr>\n",
       "      <th>2006-06-07</th>\n",
       "      <td>0.041817</td>\n",
       "      <td>-0.007634</td>\n",
       "      <td>0.007231</td>\n",
       "      <td>12630.916667</td>\n",
       "      <td>-4.080600</td>\n",
       "      <td>4.857093</td>\n",
       "      <td>-2.19</td>\n",
       "      <td>0.16910</td>\n",
       "      <td>17.80</td>\n",
       "      <td>6.310230</td>\n",
       "    </tr>\n",
       "    <tr>\n",
       "      <th>...</th>\n",
       "      <td>...</td>\n",
       "      <td>...</td>\n",
       "      <td>...</td>\n",
       "      <td>...</td>\n",
       "      <td>...</td>\n",
       "      <td>...</td>\n",
       "      <td>...</td>\n",
       "      <td>...</td>\n",
       "      <td>...</td>\n",
       "      <td>...</td>\n",
       "    </tr>\n",
       "    <tr>\n",
       "      <th>2022-03-07</th>\n",
       "      <td>0.079120</td>\n",
       "      <td>-0.037767</td>\n",
       "      <td>-0.046873</td>\n",
       "      <td>-31321.750000</td>\n",
       "      <td>1.306001</td>\n",
       "      <td>4.730727</td>\n",
       "      <td>4.48</td>\n",
       "      <td>0.77904</td>\n",
       "      <td>36.45</td>\n",
       "      <td>20.635354</td>\n",
       "    </tr>\n",
       "    <tr>\n",
       "      <th>2022-03-08</th>\n",
       "      <td>0.079120</td>\n",
       "      <td>-0.037767</td>\n",
       "      <td>-0.046873</td>\n",
       "      <td>-31321.750000</td>\n",
       "      <td>1.437721</td>\n",
       "      <td>4.730727</td>\n",
       "      <td>4.48</td>\n",
       "      <td>0.77904</td>\n",
       "      <td>35.13</td>\n",
       "      <td>20.635354</td>\n",
       "    </tr>\n",
       "    <tr>\n",
       "      <th>2022-03-09</th>\n",
       "      <td>0.079120</td>\n",
       "      <td>-0.037767</td>\n",
       "      <td>-0.046873</td>\n",
       "      <td>-31321.750000</td>\n",
       "      <td>1.510301</td>\n",
       "      <td>4.730727</td>\n",
       "      <td>4.48</td>\n",
       "      <td>0.77904</td>\n",
       "      <td>32.45</td>\n",
       "      <td>20.635354</td>\n",
       "    </tr>\n",
       "    <tr>\n",
       "      <th>2022-03-10</th>\n",
       "      <td>0.079120</td>\n",
       "      <td>-0.037767</td>\n",
       "      <td>-0.046873</td>\n",
       "      <td>-31321.750000</td>\n",
       "      <td>1.613861</td>\n",
       "      <td>4.730727</td>\n",
       "      <td>4.48</td>\n",
       "      <td>0.77904</td>\n",
       "      <td>30.23</td>\n",
       "      <td>20.635354</td>\n",
       "    </tr>\n",
       "    <tr>\n",
       "      <th>2022-03-11</th>\n",
       "      <td>0.079120</td>\n",
       "      <td>-0.037767</td>\n",
       "      <td>-0.046873</td>\n",
       "      <td>-31321.750000</td>\n",
       "      <td>1.740361</td>\n",
       "      <td>4.730727</td>\n",
       "      <td>4.48</td>\n",
       "      <td>0.77904</td>\n",
       "      <td>30.23</td>\n",
       "      <td>20.635354</td>\n",
       "    </tr>\n",
       "  </tbody>\n",
       "</table>\n",
       "<p>4171 rows × 10 columns</p>\n",
       "</div>"
      ],
      "text/plain": [
       "            CPI_y2y_ratio  pmi_y2y_ratio  Inventory_y2y_ratio  \\\n",
       "date                                                            \n",
       "2006-06-01       0.041817      -0.007634             0.001592   \n",
       "2006-06-02       0.041817      -0.007634             0.007231   \n",
       "2006-06-05       0.041817      -0.007634             0.007231   \n",
       "2006-06-06       0.041817      -0.007634             0.007231   \n",
       "2006-06-07       0.041817      -0.007634             0.007231   \n",
       "...                   ...            ...                  ...   \n",
       "2022-03-07       0.079120      -0.037767            -0.046873   \n",
       "2022-03-08       0.079120      -0.037767            -0.046873   \n",
       "2022-03-09       0.079120      -0.037767            -0.046873   \n",
       "2022-03-10       0.079120      -0.037767            -0.046873   \n",
       "2022-03-11       0.079120      -0.037767            -0.046873   \n",
       "\n",
       "            Inventory_mom_3_12  usd_mom_20_125  dollar_vol_monthly  carry  \\\n",
       "date                                                                        \n",
       "2006-06-01         7578.250000       -4.155340            4.823400  -2.03   \n",
       "2006-06-02        12630.916667       -4.182680            4.711216  -1.78   \n",
       "2006-06-05        12630.916667       -4.169200            4.711611  -1.94   \n",
       "2006-06-06        12630.916667       -4.140200            4.694080  -1.89   \n",
       "2006-06-07        12630.916667       -4.080600            4.857093  -2.19   \n",
       "...                        ...             ...                 ...    ...   \n",
       "2022-03-07       -31321.750000        1.306001            4.730727   4.48   \n",
       "2022-03-08       -31321.750000        1.437721            4.730727   4.48   \n",
       "2022-03-09       -31321.750000        1.510301            4.730727   4.48   \n",
       "2022-03-10       -31321.750000        1.613861            4.730727   4.48   \n",
       "2022-03-11       -31321.750000        1.740361            4.730727   4.48   \n",
       "\n",
       "            carry_mom_20_125    VIX  mom_20_250  \n",
       "date                                             \n",
       "2006-06-01          -0.09520  14.52    6.149323  \n",
       "2006-06-02          -0.02232  14.32    6.215534  \n",
       "2006-06-05           0.04870  16.65    6.274121  \n",
       "2006-06-06           0.11438  17.34    6.348991  \n",
       "2006-06-07           0.16910  17.80    6.310230  \n",
       "...                      ...    ...         ...  \n",
       "2022-03-07           0.77904  36.45   20.635354  \n",
       "2022-03-08           0.77904  35.13   20.635354  \n",
       "2022-03-09           0.77904  32.45   20.635354  \n",
       "2022-03-10           0.77904  30.23   20.635354  \n",
       "2022-03-11           0.77904  30.23   20.635354  \n",
       "\n",
       "[4171 rows x 10 columns]"
      ]
     },
     "execution_count": 6,
     "metadata": {},
     "output_type": "execute_result"
    }
   ],
   "source": [
    "features"
   ]
  },
  {
   "cell_type": "code",
   "execution_count": 7,
   "metadata": {},
   "outputs": [],
   "source": [
    "wti_data = pd.read_excel('./data/PET_PRI_FUT_S1_D.xls',sheet_name=1,skiprows=2)\n",
    "wti_data.columns = ['date','F1','F2','F3','F4']\n",
    "wti_data['date'] = pd.to_datetime(wti_data['date'])\n",
    "wti_data.dropna(how='any',inplace=True)\n",
    "wti_data.set_index('date',inplace=True)"
   ]
  },
  {
   "cell_type": "code",
   "execution_count": 8,
   "metadata": {},
   "outputs": [],
   "source": [
    "features_price = wti_data.reset_index().merge(features.reset_index())"
   ]
  },
  {
   "cell_type": "code",
   "execution_count": 9,
   "metadata": {},
   "outputs": [],
   "source": [
    "features_price['next_day_ret'] = features_price['F1'].diff(1).shift(-1)"
   ]
  },
  {
   "cell_type": "code",
   "execution_count": 10,
   "metadata": {},
   "outputs": [],
   "source": [
    "features_price.dropna(how='any',inplace=True)"
   ]
  },
  {
   "cell_type": "code",
   "execution_count": 11,
   "metadata": {},
   "outputs": [],
   "source": [
    "def labelit(x):\n",
    "    if x>0:\n",
    "        return 1\n",
    "    else:\n",
    "        return -1"
   ]
  },
  {
   "cell_type": "code",
   "execution_count": 12,
   "metadata": {},
   "outputs": [],
   "source": [
    "features_price['target'] = features_price['next_day_ret'].apply(lambda x: labelit(x))"
   ]
  },
  {
   "cell_type": "code",
   "execution_count": 13,
   "metadata": {},
   "outputs": [],
   "source": [
    "X = features_price[features_col_name+['date']].set_index('date')\n",
    "Y = features_price[['target','date']].set_index('date')"
   ]
  },
  {
   "cell_type": "code",
   "execution_count": 14,
   "metadata": {},
   "outputs": [],
   "source": [
    "from sklearn.ensemble import RandomForestClassifier\n",
    "from sklearn.ensemble import GradientBoostingClassifier\n",
    "from sklearn.model_selection import train_test_split\n",
    "from sklearn.model_selection import cross_val_score\n",
    "from sklearn.preprocessing import StandardScaler\n",
    "from sklearn.metrics import confusion_matrix\n",
    "X_train, X_test, y_train,y_test = train_test_split(X,Y,test_size=0.3,shuffle=False)\n",
    "clf2 = GradientBoostingClassifier()\n",
    "scaler = StandardScaler()"
   ]
  },
  {
   "cell_type": "code",
   "execution_count": 15,
   "metadata": {},
   "outputs": [],
   "source": [
    "X_train = scaler.fit_transform(X_train.values)\n",
    "X_test  = scaler.transform(X_test.values)\n",
    "y_train = y_train.values.squeeze()\n",
    "y_test = y_test.values.squeeze()"
   ]
  },
  {
   "cell_type": "code",
   "execution_count": 16,
   "metadata": {},
   "outputs": [],
   "source": [
    "X_train = X_train.dot(features_weight)\n",
    "X_train = X_train.reshape(X_train.shape[0],1)\n",
    "X_test  = X_test.dot(features_weight)\n",
    "X_test = X_test.reshape(X_test.shape[0],1)"
   ]
  },
  {
   "cell_type": "code",
   "execution_count": 17,
   "metadata": {},
   "outputs": [],
   "source": [
    "def calculate_acc(y_pred, y_test):\n",
    "    return sum((y_pred == y_test))/len(y_test)"
   ]
  },
  {
   "cell_type": "code",
   "execution_count": 18,
   "metadata": {},
   "outputs": [],
   "source": [
    "err = []\n",
    "err_test = []\n",
    "est_list = list(range(100,1100, 100))\n",
    "for n_est in range(100,1100,100):\n",
    "    clf = RandomForestClassifier(n_estimators = n_est, max_depth=5, random_state=42)\n",
    "    rfc = clf.fit(X_train, y_train)\n",
    "    err.append(1-calculate_acc(rfc.predict(X_train), y_train))\n",
    "    err_test.append(1-calculate_acc(rfc.predict(X_test), y_test))"
   ]
  },
  {
   "cell_type": "code",
   "execution_count": 19,
   "metadata": {},
   "outputs": [
    {
     "data": {
      "text/plain": [
       "<matplotlib.legend.Legend at 0x13a3f8a90>"
      ]
     },
     "execution_count": 19,
     "metadata": {},
     "output_type": "execute_result"
    },
    {
     "data": {
      "image/png": "[encoded data removed]",
      "text/plain": [
       "<Figure size 864x360 with 1 Axes>"
      ]
     },
     "metadata": {
      "needs_background": "light"
     },
     "output_type": "display_data"
    }
   ],
   "source": [
    "plt.figure(figsize=(12,5))\n",
    "plt.plot(est_list, err)\n",
    "plt.plot(est_list, err_test)\n",
    "plt.legend(['training error','test error'])"
   ]
  },
  {
   "cell_type": "code",
   "execution_count": 20,
   "metadata": {},
   "outputs": [],
   "source": [
    "err = []\n",
    "err_test = []\n",
    "est_list = list(range(100,1100, 100))\n",
    "for n_est in range(100,1100,100):\n",
    "    clf = GradientBoostingClassifier(n_estimators = n_est, max_depth=3, random_state=42)\n",
    "    rfc = clf.fit(X_train, y_train)\n",
    "    err.append(1-calculate_acc(rfc.predict(X_train), y_train))\n",
    "    err_test.append(1-calculate_acc(rfc.predict(X_test), y_test))"
   ]
  },
  {
   "cell_type": "code",
   "execution_count": 21,
   "metadata": {},
   "outputs": [
    {
     "data": {
      "text/plain": [
       "<matplotlib.legend.Legend at 0x13a3c2040>"
      ]
     },
     "execution_count": 21,
     "metadata": {},
     "output_type": "execute_result"
    },
    {
     "data": {
      "image/png": "[encoded data removed]",
      "text/plain": [
       "<Figure size 864x360 with 1 Axes>"
      ]
     },
     "metadata": {
      "needs_background": "light"
     },
     "output_type": "display_data"
    }
   ],
   "source": [
    "plt.figure(figsize=(12,5))\n",
    "plt.plot(est_list, err)\n",
    "plt.plot(est_list, err_test)\n",
    "plt.legend(['training error','test error'])"
   ]
  },
  {
   "cell_type": "code",
   "execution_count": null,
   "metadata": {},
   "outputs": [],
   "source": []
  }
 ],
 "metadata": {
  "interpreter": {
   "hash": "aee8b7b246df8f9039afb4144a1f6fd8d2ca17a180786b69acc140d282b71a49"
  },
  "kernelspec": {
   "display_name": "Python 3.9.5 64-bit",
   "language": "python",
   "name": "python3"
  },
  "language_info": {
   "codemirror_mode": {
    "name": "ipython",
    "version": 3
   },
   "file_extension": ".py",
   "mimetype": "text/x-python",
   "name": "python",
   "nbconvert_exporter": "python",
   "pygments_lexer": "ipython3",
   "version": "3.9.5"
  },
  "orig_nbformat": 4
 },
 "nbformat": 4,
 "nbformat_minor": 2
}
